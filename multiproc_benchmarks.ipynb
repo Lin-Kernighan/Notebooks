{
 "cells": [
  {
   "cell_type": "code",
   "execution_count": 4,
   "metadata": {},
   "outputs": [
    {
     "name": "stdout",
     "output_type": "stream",
     "text": [
      "3.8.2 (tags/v3.8.2:7b3ab59, Feb 25 2020, 23:03:10) [MSC v.1916 64 bit (AMD64)]\n",
      "Intel64 Family 6 Model 142 Stepping 12, GenuineIntel - CPU count: 8\n"
     ]
    }
   ],
   "source": [
    "import os\n",
    "import sys\n",
    "import platform\n",
    "\n",
    "print(sys.version)\n",
    "print(platform.processor(), '- CPU count:', os.cpu_count())"
   ]
  },
  {
   "cell_type": "code",
   "execution_count": 5,
   "metadata": {},
   "outputs": [],
   "source": [
    "from collections import defaultdict\n",
    "from time import time\n",
    "\n",
    "import matplotlib.pyplot as plt\n",
    "import pandas as pd\n",
    "import numpy as np\n",
    "\n",
    "\n",
    "pd.options.display.float_format = '{:.2f}'.format"
   ]
  },
  {
   "cell_type": "code",
   "execution_count": 6,
   "metadata": {},
   "outputs": [],
   "source": [
    "from lin_kernighan.algorithms.structures.matrix import adjacency_matrix\n",
    "from lin_kernighan.algorithms.utils.generator import generator\n",
    "from lin_kernighan.tabu_proc_search import TabuProcSearch\n",
    "from lin_kernighan.tabu_search import TabuSearch"
   ]
  },
  {
   "cell_type": "code",
   "execution_count": 66,
   "metadata": {},
   "outputs": [],
   "source": [
    "def draw_x_y(frame, x, y):\n",
    "    plt.plot(frame[x], frame[y], 'r--')\n",
    "    plt.grid('both')\n",
    "    plt.xlabel(x)\n",
    "    plt.ylabel(y)\n",
    "    plt.show()\n",
    "\n",
    "def itersec_proc(size, iterations, max_proc, tries=5):\n",
    "    \"\"\" График [итераций за секунду] / [кол-во процессов]\n",
    "    size: размер задачки\n",
    "    iterations: кол-во итераций, выполняемых процессом\n",
    "    max_proc: максимальное кол-во процессов в графике\n",
    "    \"\"\"\n",
    "    tsp = generator(size)\n",
    "    matrix = adjacency_matrix(tsp)\n",
    "    frame = pd.DataFrame()\n",
    "    \n",
    "    for _ in range(tries):\n",
    "        f = defaultdict(list)\n",
    "        \n",
    "        for i in range(2, max_proc + 1):\n",
    "            t_start = time()\n",
    "            search = TabuProcSearch('two_opt', matrix, proc=i)\n",
    "            search.optimize(iterations=iterations)\n",
    "            f['time'].append(time() - t_start)\n",
    "            f['process'].append(i)\n",
    "\n",
    "        f = pd.DataFrame(f)\n",
    "        f['iter/sec'] = f['process'] * iterations / f['time']\n",
    "        if len(frame) != 0:\n",
    "            frame['iter/sec'] += f['iter/sec']\n",
    "        else:\n",
    "            frame['iter/sec'] = f['iter/sec']\n",
    "            frame['process'] = f['process']\n",
    "            \n",
    "    frame['iter/sec'] /= tries\n",
    "    draw_x_y(frame, 'process', 'iter/sec')   \n",
    "    \n",
    "    \n",
    "def sec_iter(size, start=50, stop=150, step=10, tries=3):\n",
    "    \"\"\" График [секунды] / [итерации]\n",
    "    size: размер задачки\n",
    "    max_proc: максимальное кол-во процессов в графике\n",
    "    \"\"\"\n",
    "    tsp = generator(size)\n",
    "    matrix = adjacency_matrix(tsp)\n",
    "    \n",
    "    for process in range(2, 9, 2):\n",
    "        frame = defaultdict(list)\n",
    "        for iterations in range(start, stop + 1, step):\n",
    "            t = 0.\n",
    "            for _ in range(tries):\n",
    "                t_start = time()\n",
    "                search = TabuProcSearch('two_opt', matrix, proc=process)\n",
    "                search.optimize(iterations=iterations // process)\n",
    "                t += (time() - t_start)\n",
    "            frame['iterations'].append(iterations)\n",
    "            frame['time'].append(t / tries)\n",
    "        \n",
    "        frame = pd.DataFrame(frame)\n",
    "        plt.plot(frame['iterations'], frame['time'], '--', label=str(process))\n",
    "     \n",
    "    frame = defaultdict(list)\n",
    "    for iterations in range(start, stop + 1, step):\n",
    "        t = 0.\n",
    "        for _ in range(tries):\n",
    "            t_start = time()\n",
    "            search = TabuSearch('two_opt', matrix)\n",
    "            search.optimize(iterations=iterations)\n",
    "            t += (time() - t_start) \n",
    "        frame['iterations'].append(iterations)\n",
    "        frame['time'].append(t / tries)\n",
    "    frame = pd.DataFrame(frame)\n",
    "    plt.plot(frame['iterations'], frame['time'], '--', label='1')\n",
    "        \n",
    "    plt.grid('both')\n",
    "    plt.legend()\n",
    "    plt.xlabel('iterations')\n",
    "    plt.ylabel('time')\n",
    "    plt.show()\n",
    "    \n",
    "\n",
    "def tabu_simple(size, iterations, tries=15):\n",
    "    tsp = generator(size)\n",
    "    matrix = adjacency_matrix(tsp)\n",
    "    t = 0\n",
    "    \n",
    "    for _ in range(tries):\n",
    "        t_start = time()\n",
    "        search = TabuSearch('two_opt', matrix)\n",
    "        search.optimize(iterations=iterations)\n",
    "        t += (time() - t_start)\n",
    "        \n",
    "    print(f'for {size}:{iterations} iter/sec: {tries / t:0.1f}')"
   ]
  },
  {
   "cell_type": "code",
   "execution_count": 57,
   "metadata": {},
   "outputs": [
    {
     "data": {
      "image/png": "[encoded data removed]",
      "text/plain": [
       "<Figure size 432x288 with 1 Axes>"
      ]
     },
     "metadata": {
      "needs_background": "light"
     },
     "output_type": "display_data"
    }
   ],
   "source": [
    "itersec_proc(250, 10, 10)"
   ]
  }
 ],
 "metadata": {
  "kernelspec": {
   "display_name": "Python 3",
   "language": "python",
   "name": "python3"
  },
  "language_info": {
   "codemirror_mode": {
    "name": "ipython",
    "version": 3
   },
   "file_extension": ".py",
   "mimetype": "text/x-python",
   "name": "python",
   "nbconvert_exporter": "python",
   "pygments_lexer": "ipython3",
   "version": "3.8.2"
  }
 },
 "nbformat": 4,
 "nbformat_minor": 4
}
